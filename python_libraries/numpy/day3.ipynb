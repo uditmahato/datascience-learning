{
 "cells": [
  {
   "cell_type": "markdown",
   "id": "4df6f524",
   "metadata": {},
   "source": [
    "# numpy- array from numerical ranges\n",
    "In this chapter, we will see how to create an array from numerical ranges."
   ]
  },
  {
   "cell_type": "markdown",
   "id": "4d1bfecc",
   "metadata": {},
   "source": [
    "## numpy.arange\n",
    "This function returns an ndarray object containing evenly spaced values within a given range.\n",
    "The format of the function is as follows:\n",
    "### numpy.arange(start, stop, step, dtype)"
   ]
  },
  {
   "cell_type": "code",
   "execution_count": 1,
   "id": "6d845a88",
   "metadata": {},
   "outputs": [
    {
     "name": "stdout",
     "output_type": "stream",
     "text": [
      "[0 1 2 3 4]\n"
     ]
    }
   ],
   "source": [
    "import numpy as np\n",
    "x = np.arange(5)\n",
    "print(x)"
   ]
  },
  {
   "cell_type": "code",
   "execution_count": 2,
   "id": "63eb600e",
   "metadata": {},
   "outputs": [
    {
     "name": "stdout",
     "output_type": "stream",
     "text": [
      "[10 12 14 16 18]\n"
     ]
    }
   ],
   "source": [
    "# start and stop parameters set\n",
    "import numpy as np\n",
    "x = np.arange(10,20,2)\n",
    "print (x)"
   ]
  },
  {
   "cell_type": "markdown",
   "id": "e779238c",
   "metadata": {},
   "source": [
    "## numpy.linspace\n",
    "this function is similar to arange() function. In this function, instead of step size, the number\n",
    "of evenly spaced values between the interval is specified. The usage of this function is as\n",
    "follows:\n",
    "\n",
    "### numpy.linspace(start, stop, num, endpoint, retstep, dtype)"
   ]
  },
  {
   "cell_type": "code",
   "execution_count": 4,
   "id": "7afe797a",
   "metadata": {},
   "outputs": [
    {
     "data": {
      "text/plain": [
       "array([ 5., 10., 15., 20., 25., 30., 35., 40., 45., 50.])"
      ]
     },
     "execution_count": 4,
     "metadata": {},
     "output_type": "execute_result"
    }
   ],
   "source": [
    "x=np.linspace(5,50,10)\n",
    "x"
   ]
  }
 ],
 "metadata": {
  "kernelspec": {
   "display_name": "Python 3 (ipykernel)",
   "language": "python",
   "name": "python3"
  },
  "language_info": {
   "codemirror_mode": {
    "name": "ipython",
    "version": 3
   },
   "file_extension": ".py",
   "mimetype": "text/x-python",
   "name": "python",
   "nbconvert_exporter": "python",
   "pygments_lexer": "ipython3",
   "version": "3.8.8"
  }
 },
 "nbformat": 4,
 "nbformat_minor": 5
}
