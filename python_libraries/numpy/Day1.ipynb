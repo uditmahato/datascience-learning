{
 "cells": [
  {
   "cell_type": "code",
   "execution_count": 1,
   "id": "89b85b41",
   "metadata": {},
   "outputs": [],
   "source": [
    "#n-dimensional array also called ndarray\n",
    "#each element take same sizeof block i memory\n"
   ]
  },
  {
   "cell_type": "code",
   "execution_count": 3,
   "id": "272ccf3a",
   "metadata": {},
   "outputs": [
    {
     "name": "stdout",
     "output_type": "stream",
     "text": [
      "[ 1  2  3  4  5 61  2  3  1]\n"
     ]
    }
   ],
   "source": [
    "import numpy as np\n",
    "a=np.array([1,2,3,4,5,61,2,3,1])\n",
    "print(a)"
   ]
  },
  {
   "cell_type": "code",
   "execution_count": 6,
   "id": "46a7c9aa",
   "metadata": {},
   "outputs": [
    {
     "data": {
      "text/plain": [
       "array([[1, 2, 3, 4, 5],\n",
       "       [4, 5, 6, 7, 8]])"
      ]
     },
     "execution_count": 6,
     "metadata": {},
     "output_type": "execute_result"
    }
   ],
   "source": [
    "#multi dimension\n",
    "b=np.array([[1,2,3,4,5],[4,5,6,7,8]])\n",
    "b"
   ]
  },
  {
   "cell_type": "code",
   "execution_count": 11,
   "id": "d99bfe98",
   "metadata": {},
   "outputs": [
    {
     "data": {
      "text/plain": [
       "array([[1, 2, 3, 4, 5, 6]])"
      ]
     },
     "execution_count": 11,
     "metadata": {},
     "output_type": "execute_result"
    }
   ],
   "source": [
    "#minimum dimension\n",
    "c=np.array([1,2,3,4,5,6],ndmin=2)\n",
    "c"
   ]
  },
  {
   "cell_type": "code",
   "execution_count": 12,
   "id": "6030b286",
   "metadata": {},
   "outputs": [
    {
     "data": {
      "text/plain": [
       "array([1.+0.j, 2.+0.j, 3.+0.j, 4.+0.j, 5.+0.j, 6.+0.j])"
      ]
     },
     "execution_count": 12,
     "metadata": {},
     "output_type": "execute_result"
    }
   ],
   "source": [
    "#dtype parameter\n",
    "c=np.array([1,2,3,4,5,6],dtype=complex)\n",
    "c"
   ]
  },
  {
   "cell_type": "markdown",
   "id": "62639f9f",
   "metadata": {},
   "source": [
    "# Numpy -Data Types"
   ]
  },
  {
   "cell_type": "code",
   "execution_count": 13,
   "id": "b000f063",
   "metadata": {},
   "outputs": [],
   "source": [
    "#numpy has larger number of data types than the python\n",
    "# around 19 types"
   ]
  },
  {
   "cell_type": "code",
   "execution_count": null,
   "id": "7c035e2e",
   "metadata": {},
   "outputs": [],
   "source": []
  }
 ],
 "metadata": {
  "kernelspec": {
   "display_name": "Python 3",
   "language": "python",
   "name": "python3"
  },
  "language_info": {
   "codemirror_mode": {
    "name": "ipython",
    "version": 3
   },
   "file_extension": ".py",
   "mimetype": "text/x-python",
   "name": "python",
   "nbconvert_exporter": "python",
   "pygments_lexer": "ipython3",
   "version": "3.8.8"
  }
 },
 "nbformat": 4,
 "nbformat_minor": 5
}
