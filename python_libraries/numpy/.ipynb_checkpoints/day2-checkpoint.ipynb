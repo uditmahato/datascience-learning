{
 "cells": [
  {
   "cell_type": "code",
   "execution_count": 3,
   "id": "e7a280d6",
   "metadata": {},
   "outputs": [
    {
     "data": {
      "text/plain": [
       "array([ 0,  1,  2,  3,  4,  5,  6,  7,  8,  9, 10, 11, 12, 13, 14, 15, 16,\n",
       "       17, 18, 19, 20, 21, 22, 23])"
      ]
     },
     "execution_count": 3,
     "metadata": {},
     "output_type": "execute_result"
    }
   ],
   "source": [
    "#we will be working with bfew more function of numpy\n",
    "\n",
    "import numpy as np\n",
    "a=np.arange(24)\n",
    "a"
   ]
  },
  {
   "cell_type": "code",
   "execution_count": 7,
   "id": "082d15eb",
   "metadata": {},
   "outputs": [
    {
     "data": {
      "text/plain": [
       "array([[[ 0,  1,  2],\n",
       "        [ 3,  4,  5],\n",
       "        [ 6,  7,  8],\n",
       "        [ 9, 10, 11]],\n",
       "\n",
       "       [[12, 13, 14],\n",
       "        [15, 16, 17],\n",
       "        [18, 19, 20],\n",
       "        [21, 22, 23]]])"
      ]
     },
     "execution_count": 7,
     "metadata": {},
     "output_type": "execute_result"
    }
   ],
   "source": [
    "#lets reshape\n",
    "a.reshape(2,4,3)"
   ]
  },
  {
   "cell_type": "markdown",
   "id": "0f966671",
   "metadata": {},
   "source": [
    "# Item size"
   ]
  },
  {
   "cell_type": "code",
   "execution_count": 8,
   "id": "f456b185",
   "metadata": {},
   "outputs": [
    {
     "data": {
      "text/plain": [
       "8"
      ]
     },
     "execution_count": 8,
     "metadata": {},
     "output_type": "execute_result"
    }
   ],
   "source": [
    "#this attribute returns the length of eac element of array in bytes\n",
    "a.itemsize"
   ]
  },
  {
   "cell_type": "code",
   "execution_count": 14,
   "id": "572803fa",
   "metadata": {},
   "outputs": [
    {
     "data": {
      "text/plain": [
       "1"
      ]
     },
     "execution_count": 14,
     "metadata": {},
     "output_type": "execute_result"
    }
   ],
   "source": [
    "b=np.array([1,2,3,4,5],dtype=np.int8)\n",
    "b.itemsize"
   ]
  },
  {
   "cell_type": "code",
   "execution_count": 15,
   "id": "b989a11c",
   "metadata": {},
   "outputs": [
    {
     "data": {
      "text/plain": [
       "4"
      ]
     },
     "execution_count": 15,
     "metadata": {},
     "output_type": "execute_result"
    }
   ],
   "source": [
    "b=np.array([1,2,3,4,5],dtype=np.float32)\n",
    "b.itemsize"
   ]
  },
  {
   "cell_type": "code",
   "execution_count": 16,
   "id": "f3ddbb36",
   "metadata": {},
   "outputs": [
    {
     "data": {
      "text/plain": [
       "  C_CONTIGUOUS : True\n",
       "  F_CONTIGUOUS : True\n",
       "  OWNDATA : True\n",
       "  WRITEABLE : True\n",
       "  ALIGNED : True\n",
       "  WRITEBACKIFCOPY : False\n",
       "  UPDATEIFCOPY : False"
      ]
     },
     "execution_count": 16,
     "metadata": {},
     "output_type": "execute_result"
    }
   ],
   "source": [
    "#flags that shows current value\n",
    "b=np.array([1,2,3,4,5],dtype=np.int8)\n",
    "b.flags"
   ]
  },
  {
   "cell_type": "markdown",
   "id": "4aff098a",
   "metadata": {},
   "source": [
    "# array creation routines"
   ]
  },
  {
   "cell_type": "markdown",
   "id": "779dd103",
   "metadata": {},
   "source": [
    "## np.empty"
   ]
  },
  {
   "cell_type": "code",
   "execution_count": 26,
   "id": "d3cef26b",
   "metadata": {},
   "outputs": [
    {
     "data": {
      "text/plain": [
       "array([[ 94666620760736,               0, 140248741288256],\n",
       "       [140248741220992, 140249490556160, 140249490544368]])"
      ]
     },
     "execution_count": 26,
     "metadata": {},
     "output_type": "execute_result"
    }
   ],
   "source": [
    "#np.empty can create unitialized array of specified shape and data type\n",
    "x=np.empty([2,3],dtype=int,order='C')\n",
    "x"
   ]
  },
  {
   "cell_type": "markdown",
   "id": "b43dc253",
   "metadata": {},
   "source": [
    "## np.zeros"
   ]
  },
  {
   "cell_type": "code",
   "execution_count": 30,
   "id": "e7d9c353",
   "metadata": {},
   "outputs": [
    {
     "data": {
      "text/plain": [
       "array([0., 0., 0., 0., 0., 0., 0., 0., 0., 0.])"
      ]
     },
     "execution_count": 30,
     "metadata": {},
     "output_type": "execute_result"
    }
   ],
   "source": [
    "#array of five zeros nad dtype is float by default\n",
    "x=np.zeros(10)\n",
    "x"
   ]
  },
  {
   "cell_type": "code",
   "execution_count": 34,
   "id": "34d040ae",
   "metadata": {},
   "outputs": [
    {
     "data": {
      "text/plain": [
       "array([0, 0, 0, 0, 0], dtype=int32)"
      ]
     },
     "execution_count": 34,
     "metadata": {},
     "output_type": "execute_result"
    }
   ],
   "source": [
    "#but we can change the dtype\n",
    "x = np.zeros((5,), dtype=np.int32)\n",
    "x"
   ]
  },
  {
   "cell_type": "code",
   "execution_count": 35,
   "id": "d8e18043",
   "metadata": {},
   "outputs": [
    {
     "data": {
      "text/plain": [
       "array([[(0, 0), (0, 0)],\n",
       "       [(0, 0), (0, 0)]], dtype=[('x', '<i4'), ('y', '<i4')])"
      ]
     },
     "execution_count": 35,
     "metadata": {},
     "output_type": "execute_result"
    }
   ],
   "source": [
    "#numpy can also be used with custom data type\n",
    "x = np.zeros((2,2), dtype=[('x', 'i4'), ('y', 'i4')])\n",
    "x"
   ]
  },
  {
   "cell_type": "markdown",
   "id": "86fe37f2",
   "metadata": {},
   "source": [
    "## np.ones"
   ]
  },
  {
   "cell_type": "code",
   "execution_count": 36,
   "id": "0b37ba22",
   "metadata": {},
   "outputs": [],
   "source": [
    "#new array of specified size and type with filled ones"
   ]
  },
  {
   "cell_type": "code",
   "execution_count": 39,
   "id": "9ca6ff1b",
   "metadata": {},
   "outputs": [
    {
     "data": {
      "text/plain": [
       "array([[1., 1., 1.],\n",
       "       [1., 1., 1.],\n",
       "       [1., 1., 1.]], dtype=float32)"
      ]
     },
     "execution_count": 39,
     "metadata": {},
     "output_type": "execute_result"
    }
   ],
   "source": [
    "x=np.ones([3,3],dtype=np.float32)\n",
    "x"
   ]
  },
  {
   "cell_type": "markdown",
   "id": "f5ed006b",
   "metadata": {},
   "source": [
    "# numpy -array from existing data\n",
    "here we will learn how to create a numpy array using exitsing  data"
   ]
  },
  {
   "cell_type": "code",
   "execution_count": 44,
   "id": "5ad11c6e",
   "metadata": {},
   "outputs": [],
   "source": [
    "a=[1,2,3,4,5,6,7,8,9,10]"
   ]
  },
  {
   "cell_type": "code",
   "execution_count": 45,
   "id": "8cbe7816",
   "metadata": {},
   "outputs": [
    {
     "data": {
      "text/plain": [
       "[1, 2, 3, 4, 5, 6, 7, 8, 9, 10]"
      ]
     },
     "execution_count": 45,
     "metadata": {},
     "output_type": "execute_result"
    }
   ],
   "source": [
    "a"
   ]
  },
  {
   "cell_type": "markdown",
   "id": "f94c337f",
   "metadata": {},
   "source": [
    "## numpy.asarray"
   ]
  },
  {
   "cell_type": "markdown",
   "id": "92eb2a90",
   "metadata": {},
   "source": [
    "### numpy.asarray(a,dtype=none,order=none) "
   ]
  },
  {
   "cell_type": "code",
   "execution_count": 46,
   "id": "1432ce1c",
   "metadata": {},
   "outputs": [],
   "source": [
    "#this attribute help hus to convert python squence into nd array"
   ]
  },
  {
   "cell_type": "code",
   "execution_count": 47,
   "id": "73f03e72",
   "metadata": {},
   "outputs": [
    {
     "data": {
      "text/plain": [
       "array([ 1,  2,  3,  4,  5,  6,  7,  8,  9, 10])"
      ]
     },
     "execution_count": 47,
     "metadata": {},
     "output_type": "execute_result"
    }
   ],
   "source": [
    "#converting list into array\n",
    "a=np.asarray(a)\n",
    "a"
   ]
  },
  {
   "cell_type": "code",
   "execution_count": 48,
   "id": "7c022c4a",
   "metadata": {},
   "outputs": [],
   "source": [
    "#lets set data type to float\n",
    "a=np.asarray(a,dtype=float)"
   ]
  },
  {
   "cell_type": "code",
   "execution_count": 49,
   "id": "631b961b",
   "metadata": {},
   "outputs": [
    {
     "data": {
      "text/plain": [
       "array([ 1.,  2.,  3.,  4.,  5.,  6.,  7.,  8.,  9., 10.])"
      ]
     },
     "execution_count": 49,
     "metadata": {},
     "output_type": "execute_result"
    }
   ],
   "source": [
    "a"
   ]
  },
  {
   "cell_type": "markdown",
   "id": "12d84d78",
   "metadata": {},
   "source": [
    "### nd array from tuple"
   ]
  },
  {
   "cell_type": "code",
   "execution_count": 50,
   "id": "75664cdb",
   "metadata": {},
   "outputs": [],
   "source": [
    "b=(23,45,67,89,76,66)"
   ]
  },
  {
   "cell_type": "code",
   "execution_count": 51,
   "id": "322cead0",
   "metadata": {},
   "outputs": [],
   "source": [
    "b=np.asarray(b,dtype=int)"
   ]
  },
  {
   "cell_type": "code",
   "execution_count": 52,
   "id": "b61b37d7",
   "metadata": {},
   "outputs": [
    {
     "data": {
      "text/plain": [
       "array([23, 45, 67, 89, 76, 66])"
      ]
     },
     "execution_count": 52,
     "metadata": {},
     "output_type": "execute_result"
    }
   ],
   "source": [
    "b"
   ]
  },
  {
   "cell_type": "markdown",
   "id": "52eef7d3",
   "metadata": {},
   "source": [
    "# numpy.frombuffer\n",
    "This function interprets a buffer as one-dimensional array. Any object that exposes the buffer\n",
    "interface is used as parameter to return an ndarray.\n",
    "\n",
    "### numpy.frombuffer(buffer, dtype=float, count=-1, offset=0)\n",
    "\n",
    "buffer  : Any object that exposes buffer interface\n",
    "\n",
    "dtype   :Data type of returned ndarray. Defaults to float\n",
    "\n",
    "count   :The number of items to read, default -1 means all data\n",
    "\n",
    "offset  : The starting position to read from. Default is 0"
   ]
  },
  {
   "cell_type": "code",
   "execution_count": 55,
   "id": "e387ee60",
   "metadata": {},
   "outputs": [
    {
     "ename": "TypeError",
     "evalue": "a bytes-like object is required, not 'str'",
     "output_type": "error",
     "traceback": [
      "\u001b[0;31m---------------------------------------------------------------------------\u001b[0m",
      "\u001b[0;31mTypeError\u001b[0m                                 Traceback (most recent call last)",
      "Input \u001b[0;32mIn [55]\u001b[0m, in \u001b[0;36m<cell line: 2>\u001b[0;34m()\u001b[0m\n\u001b[1;32m      1\u001b[0m s \u001b[38;5;241m=\u001b[39m \u001b[38;5;124m'\u001b[39m\u001b[38;5;124mHello World\u001b[39m\u001b[38;5;124m'\u001b[39m\n\u001b[0;32m----> 2\u001b[0m a \u001b[38;5;241m=\u001b[39m \u001b[43mnp\u001b[49m\u001b[38;5;241;43m.\u001b[39;49m\u001b[43mfrombuffer\u001b[49m\u001b[43m(\u001b[49m\u001b[43ms\u001b[49m\u001b[43m,\u001b[49m\u001b[43m \u001b[49m\u001b[43mdtype\u001b[49m\u001b[38;5;241;43m=\u001b[39;49m\u001b[38;5;124;43m'\u001b[39;49m\u001b[38;5;124;43mS1\u001b[39;49m\u001b[38;5;124;43m'\u001b[39;49m\u001b[43m)\u001b[49m\n\u001b[1;32m      3\u001b[0m s\n",
      "\u001b[0;31mTypeError\u001b[0m: a bytes-like object is required, not 'str'"
     ]
    }
   ],
   "source": [
    "s = 'Hello World'\n",
    "a = np.frombuffer(s, dtype='S1')\n",
    "s"
   ]
  },
  {
   "cell_type": "markdown",
   "id": "c5eb2810",
   "metadata": {},
   "source": [
    "# numpy.fromiter\n",
    "This function builds an ndarray object from any iterable object. A new one-dimensional array\n",
    "is returned by this function.\n",
    "### numpy.fromiter(iterable, dtype, count=-1)"
   ]
  },
  {
   "cell_type": "code",
   "execution_count": null,
   "id": "a5502f5c",
   "metadata": {},
   "outputs": [],
   "source": []
  }
 ],
 "metadata": {
  "kernelspec": {
   "display_name": "Python 3 (ipykernel)",
   "language": "python",
   "name": "python3"
  },
  "language_info": {
   "codemirror_mode": {
    "name": "ipython",
    "version": 3
   },
   "file_extension": ".py",
   "mimetype": "text/x-python",
   "name": "python",
   "nbconvert_exporter": "python",
   "pygments_lexer": "ipython3",
   "version": "3.8.8"
  }
 },
 "nbformat": 4,
 "nbformat_minor": 5
}
