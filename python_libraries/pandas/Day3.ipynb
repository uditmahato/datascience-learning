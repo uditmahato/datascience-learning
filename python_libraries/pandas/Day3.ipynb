{
 "cells": [
  {
   "cell_type": "code",
   "execution_count": 1,
   "id": "82440117",
   "metadata": {},
   "outputs": [],
   "source": [
    "import pandas as pd"
   ]
  },
  {
   "cell_type": "code",
   "execution_count": 2,
   "id": "2538997d",
   "metadata": {},
   "outputs": [
    {
     "data": {
      "text/html": [
       "<div>\n",
       "<style scoped>\n",
       "    .dataframe tbody tr th:only-of-type {\n",
       "        vertical-align: middle;\n",
       "    }\n",
       "\n",
       "    .dataframe tbody tr th {\n",
       "        vertical-align: top;\n",
       "    }\n",
       "\n",
       "    .dataframe thead th {\n",
       "        text-align: right;\n",
       "    }\n",
       "</style>\n",
       "<table border=\"1\" class=\"dataframe\">\n",
       "  <thead>\n",
       "    <tr style=\"text-align: right;\">\n",
       "      <th></th>\n",
       "      <th>Team</th>\n",
       "      <th>Position</th>\n",
       "      <th>Height</th>\n",
       "      <th>Weight</th>\n",
       "      <th>Age</th>\n",
       "      <th>PosCategory</th>\n",
       "    </tr>\n",
       "    <tr>\n",
       "      <th>Name</th>\n",
       "      <th></th>\n",
       "      <th></th>\n",
       "      <th></th>\n",
       "      <th></th>\n",
       "      <th></th>\n",
       "      <th></th>\n",
       "    </tr>\n",
       "  </thead>\n",
       "  <tbody>\n",
       "    <tr>\n",
       "      <th>Adam_Donachie</th>\n",
       "      <td>BAL</td>\n",
       "      <td>Catcher</td>\n",
       "      <td>74</td>\n",
       "      <td>180</td>\n",
       "      <td>22.99</td>\n",
       "      <td>Catcher</td>\n",
       "    </tr>\n",
       "    <tr>\n",
       "      <th>Paul_Bako</th>\n",
       "      <td>BAL</td>\n",
       "      <td>Catcher</td>\n",
       "      <td>74</td>\n",
       "      <td>215</td>\n",
       "      <td>34.69</td>\n",
       "      <td>Catcher</td>\n",
       "    </tr>\n",
       "    <tr>\n",
       "      <th>Ramon_Hernandez</th>\n",
       "      <td>BAL</td>\n",
       "      <td>Catcher</td>\n",
       "      <td>72</td>\n",
       "      <td>210</td>\n",
       "      <td>30.78</td>\n",
       "      <td>Catcher</td>\n",
       "    </tr>\n",
       "    <tr>\n",
       "      <th>Kevin_Millar</th>\n",
       "      <td>BAL</td>\n",
       "      <td>First_Baseman</td>\n",
       "      <td>72</td>\n",
       "      <td>210</td>\n",
       "      <td>35.43</td>\n",
       "      <td>Infielder</td>\n",
       "    </tr>\n",
       "    <tr>\n",
       "      <th>Chris_Gomez</th>\n",
       "      <td>BAL</td>\n",
       "      <td>First_Baseman</td>\n",
       "      <td>73</td>\n",
       "      <td>188</td>\n",
       "      <td>35.71</td>\n",
       "      <td>Infielder</td>\n",
       "    </tr>\n",
       "    <tr>\n",
       "      <th>...</th>\n",
       "      <td>...</td>\n",
       "      <td>...</td>\n",
       "      <td>...</td>\n",
       "      <td>...</td>\n",
       "      <td>...</td>\n",
       "      <td>...</td>\n",
       "    </tr>\n",
       "    <tr>\n",
       "      <th>Brad_Thompson</th>\n",
       "      <td>STL</td>\n",
       "      <td>Relief_Pitcher</td>\n",
       "      <td>73</td>\n",
       "      <td>190</td>\n",
       "      <td>25.08</td>\n",
       "      <td>Pitcher</td>\n",
       "    </tr>\n",
       "    <tr>\n",
       "      <th>Tyler_Johnson</th>\n",
       "      <td>STL</td>\n",
       "      <td>Relief_Pitcher</td>\n",
       "      <td>74</td>\n",
       "      <td>180</td>\n",
       "      <td>25.73</td>\n",
       "      <td>Pitcher</td>\n",
       "    </tr>\n",
       "    <tr>\n",
       "      <th>Chris_Narveson</th>\n",
       "      <td>STL</td>\n",
       "      <td>Relief_Pitcher</td>\n",
       "      <td>75</td>\n",
       "      <td>205</td>\n",
       "      <td>25.19</td>\n",
       "      <td>Pitcher</td>\n",
       "    </tr>\n",
       "    <tr>\n",
       "      <th>Randy_Keisler</th>\n",
       "      <td>STL</td>\n",
       "      <td>Relief_Pitcher</td>\n",
       "      <td>75</td>\n",
       "      <td>190</td>\n",
       "      <td>31.01</td>\n",
       "      <td>Pitcher</td>\n",
       "    </tr>\n",
       "    <tr>\n",
       "      <th>Josh_Kinney</th>\n",
       "      <td>STL</td>\n",
       "      <td>Relief_Pitcher</td>\n",
       "      <td>73</td>\n",
       "      <td>195</td>\n",
       "      <td>27.92</td>\n",
       "      <td>Pitcher</td>\n",
       "    </tr>\n",
       "  </tbody>\n",
       "</table>\n",
       "<p>1015 rows × 6 columns</p>\n",
       "</div>"
      ],
      "text/plain": [
       "                Team        Position  Height  Weight    Age PosCategory\n",
       "Name                                                                   \n",
       "Adam_Donachie    BAL         Catcher      74     180  22.99     Catcher\n",
       "Paul_Bako        BAL         Catcher      74     215  34.69     Catcher\n",
       "Ramon_Hernandez  BAL         Catcher      72     210  30.78     Catcher\n",
       "Kevin_Millar     BAL   First_Baseman      72     210  35.43   Infielder\n",
       "Chris_Gomez      BAL   First_Baseman      73     188  35.71   Infielder\n",
       "...              ...             ...     ...     ...    ...         ...\n",
       "Brad_Thompson    STL  Relief_Pitcher      73     190  25.08     Pitcher\n",
       "Tyler_Johnson    STL  Relief_Pitcher      74     180  25.73     Pitcher\n",
       "Chris_Narveson   STL  Relief_Pitcher      75     205  25.19     Pitcher\n",
       "Randy_Keisler    STL  Relief_Pitcher      75     190  31.01     Pitcher\n",
       "Josh_Kinney      STL  Relief_Pitcher      73     195  27.92     Pitcher\n",
       "\n",
       "[1015 rows x 6 columns]"
      ]
     },
     "execution_count": 2,
     "metadata": {},
     "output_type": "execute_result"
    }
   ],
   "source": [
    "df=pd.read_csv('baseball.csv',index_col=0)\n",
    "df"
   ]
  },
  {
   "cell_type": "markdown",
   "id": "0839039f",
   "metadata": {},
   "source": [
    "# Arithmatics and Statistics"
   ]
  },
  {
   "cell_type": "code",
   "execution_count": 5,
   "id": "e6d3830c",
   "metadata": {},
   "outputs": [
    {
     "data": {
      "text/html": [
       "<div>\n",
       "<style scoped>\n",
       "    .dataframe tbody tr th:only-of-type {\n",
       "        vertical-align: middle;\n",
       "    }\n",
       "\n",
       "    .dataframe tbody tr th {\n",
       "        vertical-align: top;\n",
       "    }\n",
       "\n",
       "    .dataframe thead th {\n",
       "        text-align: right;\n",
       "    }\n",
       "</style>\n",
       "<table border=\"1\" class=\"dataframe\">\n",
       "  <thead>\n",
       "    <tr style=\"text-align: right;\">\n",
       "      <th></th>\n",
       "      <th>Team</th>\n",
       "      <th>Position</th>\n",
       "      <th>Height</th>\n",
       "      <th>Weight</th>\n",
       "      <th>Age</th>\n",
       "      <th>PosCategory</th>\n",
       "    </tr>\n",
       "    <tr>\n",
       "      <th>Name</th>\n",
       "      <th></th>\n",
       "      <th></th>\n",
       "      <th></th>\n",
       "      <th></th>\n",
       "      <th></th>\n",
       "      <th></th>\n",
       "    </tr>\n",
       "  </thead>\n",
       "  <tbody>\n",
       "    <tr>\n",
       "      <th>Adam_Donachie</th>\n",
       "      <td>BAL</td>\n",
       "      <td>Catcher</td>\n",
       "      <td>74</td>\n",
       "      <td>180</td>\n",
       "      <td>22.99</td>\n",
       "      <td>Catcher</td>\n",
       "    </tr>\n",
       "    <tr>\n",
       "      <th>Paul_Bako</th>\n",
       "      <td>BAL</td>\n",
       "      <td>Catcher</td>\n",
       "      <td>74</td>\n",
       "      <td>215</td>\n",
       "      <td>34.69</td>\n",
       "      <td>Catcher</td>\n",
       "    </tr>\n",
       "    <tr>\n",
       "      <th>Ramon_Hernandez</th>\n",
       "      <td>BAL</td>\n",
       "      <td>Catcher</td>\n",
       "      <td>72</td>\n",
       "      <td>210</td>\n",
       "      <td>30.78</td>\n",
       "      <td>Catcher</td>\n",
       "    </tr>\n",
       "    <tr>\n",
       "      <th>Kevin_Millar</th>\n",
       "      <td>BAL</td>\n",
       "      <td>First_Baseman</td>\n",
       "      <td>72</td>\n",
       "      <td>210</td>\n",
       "      <td>35.43</td>\n",
       "      <td>Infielder</td>\n",
       "    </tr>\n",
       "    <tr>\n",
       "      <th>Chris_Gomez</th>\n",
       "      <td>BAL</td>\n",
       "      <td>First_Baseman</td>\n",
       "      <td>73</td>\n",
       "      <td>188</td>\n",
       "      <td>35.71</td>\n",
       "      <td>Infielder</td>\n",
       "    </tr>\n",
       "    <tr>\n",
       "      <th>Brian_Roberts</th>\n",
       "      <td>BAL</td>\n",
       "      <td>Second_Baseman</td>\n",
       "      <td>69</td>\n",
       "      <td>176</td>\n",
       "      <td>29.39</td>\n",
       "      <td>Infielder</td>\n",
       "    </tr>\n",
       "    <tr>\n",
       "      <th>Miguel_Tejada</th>\n",
       "      <td>BAL</td>\n",
       "      <td>Shortstop</td>\n",
       "      <td>69</td>\n",
       "      <td>209</td>\n",
       "      <td>30.77</td>\n",
       "      <td>Infielder</td>\n",
       "    </tr>\n",
       "    <tr>\n",
       "      <th>Melvin_Mora</th>\n",
       "      <td>BAL</td>\n",
       "      <td>Third_Baseman</td>\n",
       "      <td>71</td>\n",
       "      <td>200</td>\n",
       "      <td>35.07</td>\n",
       "      <td>Infielder</td>\n",
       "    </tr>\n",
       "    <tr>\n",
       "      <th>Aubrey_Huff</th>\n",
       "      <td>BAL</td>\n",
       "      <td>Third_Baseman</td>\n",
       "      <td>76</td>\n",
       "      <td>231</td>\n",
       "      <td>30.19</td>\n",
       "      <td>Infielder</td>\n",
       "    </tr>\n",
       "    <tr>\n",
       "      <th>Adam_Stern</th>\n",
       "      <td>BAL</td>\n",
       "      <td>Outfielder</td>\n",
       "      <td>71</td>\n",
       "      <td>180</td>\n",
       "      <td>27.05</td>\n",
       "      <td>Outfielder</td>\n",
       "    </tr>\n",
       "    <tr>\n",
       "      <th>Jeff_Fiorentino</th>\n",
       "      <td>BAL</td>\n",
       "      <td>Outfielder</td>\n",
       "      <td>73</td>\n",
       "      <td>188</td>\n",
       "      <td>23.88</td>\n",
       "      <td>Outfielder</td>\n",
       "    </tr>\n",
       "    <tr>\n",
       "      <th>Freddie_Bynum</th>\n",
       "      <td>BAL</td>\n",
       "      <td>Outfielder</td>\n",
       "      <td>73</td>\n",
       "      <td>180</td>\n",
       "      <td>26.96</td>\n",
       "      <td>Outfielder</td>\n",
       "    </tr>\n",
       "    <tr>\n",
       "      <th>Nick_Markakis</th>\n",
       "      <td>BAL</td>\n",
       "      <td>Outfielder</td>\n",
       "      <td>74</td>\n",
       "      <td>185</td>\n",
       "      <td>23.29</td>\n",
       "      <td>Outfielder</td>\n",
       "    </tr>\n",
       "    <tr>\n",
       "      <th>Brandon_Fahey</th>\n",
       "      <td>BAL</td>\n",
       "      <td>Outfielder</td>\n",
       "      <td>74</td>\n",
       "      <td>160</td>\n",
       "      <td>26.11</td>\n",
       "      <td>Outfielder</td>\n",
       "    </tr>\n",
       "    <tr>\n",
       "      <th>Corey_Patterson</th>\n",
       "      <td>BAL</td>\n",
       "      <td>Outfielder</td>\n",
       "      <td>69</td>\n",
       "      <td>180</td>\n",
       "      <td>27.55</td>\n",
       "      <td>Outfielder</td>\n",
       "    </tr>\n",
       "    <tr>\n",
       "      <th>Jay_Payton</th>\n",
       "      <td>BAL</td>\n",
       "      <td>Outfielder</td>\n",
       "      <td>70</td>\n",
       "      <td>185</td>\n",
       "      <td>34.27</td>\n",
       "      <td>Outfielder</td>\n",
       "    </tr>\n",
       "    <tr>\n",
       "      <th>Erik_Bedard</th>\n",
       "      <td>BAL</td>\n",
       "      <td>Starting_Pitcher</td>\n",
       "      <td>73</td>\n",
       "      <td>189</td>\n",
       "      <td>27.99</td>\n",
       "      <td>Pitcher</td>\n",
       "    </tr>\n",
       "    <tr>\n",
       "      <th>Hayden_Penn</th>\n",
       "      <td>BAL</td>\n",
       "      <td>Starting_Pitcher</td>\n",
       "      <td>75</td>\n",
       "      <td>185</td>\n",
       "      <td>22.38</td>\n",
       "      <td>Pitcher</td>\n",
       "    </tr>\n",
       "    <tr>\n",
       "      <th>Adam_Loewen</th>\n",
       "      <td>BAL</td>\n",
       "      <td>Starting_Pitcher</td>\n",
       "      <td>78</td>\n",
       "      <td>219</td>\n",
       "      <td>22.89</td>\n",
       "      <td>Pitcher</td>\n",
       "    </tr>\n",
       "    <tr>\n",
       "      <th>Daniel_Cabrera</th>\n",
       "      <td>BAL</td>\n",
       "      <td>Starting_Pitcher</td>\n",
       "      <td>79</td>\n",
       "      <td>230</td>\n",
       "      <td>25.76</td>\n",
       "      <td>Pitcher</td>\n",
       "    </tr>\n",
       "  </tbody>\n",
       "</table>\n",
       "</div>"
      ],
      "text/plain": [
       "                Team          Position  Height  Weight    Age PosCategory\n",
       "Name                                                                     \n",
       "Adam_Donachie    BAL           Catcher      74     180  22.99     Catcher\n",
       "Paul_Bako        BAL           Catcher      74     215  34.69     Catcher\n",
       "Ramon_Hernandez  BAL           Catcher      72     210  30.78     Catcher\n",
       "Kevin_Millar     BAL     First_Baseman      72     210  35.43   Infielder\n",
       "Chris_Gomez      BAL     First_Baseman      73     188  35.71   Infielder\n",
       "Brian_Roberts    BAL    Second_Baseman      69     176  29.39   Infielder\n",
       "Miguel_Tejada    BAL         Shortstop      69     209  30.77   Infielder\n",
       "Melvin_Mora      BAL     Third_Baseman      71     200  35.07   Infielder\n",
       "Aubrey_Huff      BAL     Third_Baseman      76     231  30.19   Infielder\n",
       "Adam_Stern       BAL        Outfielder      71     180  27.05  Outfielder\n",
       "Jeff_Fiorentino  BAL        Outfielder      73     188  23.88  Outfielder\n",
       "Freddie_Bynum    BAL        Outfielder      73     180  26.96  Outfielder\n",
       "Nick_Markakis    BAL        Outfielder      74     185  23.29  Outfielder\n",
       "Brandon_Fahey    BAL        Outfielder      74     160  26.11  Outfielder\n",
       "Corey_Patterson  BAL        Outfielder      69     180  27.55  Outfielder\n",
       "Jay_Payton       BAL        Outfielder      70     185  34.27  Outfielder\n",
       "Erik_Bedard      BAL  Starting_Pitcher      73     189  27.99     Pitcher\n",
       "Hayden_Penn      BAL  Starting_Pitcher      75     185  22.38     Pitcher\n",
       "Adam_Loewen      BAL  Starting_Pitcher      78     219  22.89     Pitcher\n",
       "Daniel_Cabrera   BAL  Starting_Pitcher      79     230  25.76     Pitcher"
      ]
     },
     "execution_count": 5,
     "metadata": {},
     "output_type": "execute_result"
    }
   ],
   "source": [
    "d=df.head(20)\n",
    "d"
   ]
  },
  {
   "cell_type": "code",
   "execution_count": 10,
   "id": "a5acd607",
   "metadata": {},
   "outputs": [
    {
     "data": {
      "text/plain": [
       "Name\n",
       "Adam_Donachie      74\n",
       "Paul_Bako          74\n",
       "Ramon_Hernandez    72\n",
       "Kevin_Millar       72\n",
       "Chris_Gomez        73\n",
       "Brian_Roberts      69\n",
       "Miguel_Tejada      69\n",
       "Melvin_Mora        71\n",
       "Aubrey_Huff        76\n",
       "Adam_Stern         71\n",
       "Jeff_Fiorentino    73\n",
       "Freddie_Bynum      73\n",
       "Nick_Markakis      74\n",
       "Brandon_Fahey      74\n",
       "Corey_Patterson    69\n",
       "Jay_Payton         70\n",
       "Erik_Bedard        73\n",
       "Hayden_Penn        75\n",
       "Adam_Loewen        78\n",
       "Daniel_Cabrera     79\n",
       "Name: Height, dtype: int64"
      ]
     },
     "execution_count": 10,
     "metadata": {},
     "output_type": "execute_result"
    }
   ],
   "source": [
    "d['Height']"
   ]
  },
  {
   "cell_type": "code",
   "execution_count": 12,
   "id": "986b932b",
   "metadata": {},
   "outputs": [
    {
     "data": {
      "text/plain": [
       "Name\n",
       "Adam_Donachie      84\n",
       "Paul_Bako          84\n",
       "Ramon_Hernandez    82\n",
       "Kevin_Millar       82\n",
       "Chris_Gomez        83\n",
       "Brian_Roberts      79\n",
       "Miguel_Tejada      79\n",
       "Melvin_Mora        81\n",
       "Aubrey_Huff        86\n",
       "Adam_Stern         81\n",
       "Jeff_Fiorentino    83\n",
       "Freddie_Bynum      83\n",
       "Nick_Markakis      84\n",
       "Brandon_Fahey      84\n",
       "Corey_Patterson    79\n",
       "Jay_Payton         80\n",
       "Erik_Bedard        83\n",
       "Hayden_Penn        85\n",
       "Adam_Loewen        88\n",
       "Daniel_Cabrera     89\n",
       "Name: Height, dtype: int64"
      ]
     },
     "execution_count": 12,
     "metadata": {},
     "output_type": "execute_result"
    }
   ],
   "source": [
    "#add to all values of specific columns\n",
    "d['Height']+10"
   ]
  },
  {
   "cell_type": "code",
   "execution_count": 13,
   "id": "2753f79f",
   "metadata": {},
   "outputs": [
    {
     "data": {
      "text/plain": [
       "1459"
      ]
     },
     "execution_count": 13,
     "metadata": {},
     "output_type": "execute_result"
    }
   ],
   "source": [
    "#sum over columns\n",
    "d['Height'].sum()"
   ]
  },
  {
   "cell_type": "code",
   "execution_count": 23,
   "id": "34c89708",
   "metadata": {},
   "outputs": [
    {
     "data": {
      "text/plain": [
       "Name\n",
       "Adam_Donachie        74\n",
       "Paul_Bako           148\n",
       "Ramon_Hernandez     220\n",
       "Kevin_Millar        292\n",
       "Chris_Gomez         365\n",
       "Brian_Roberts       434\n",
       "Miguel_Tejada       503\n",
       "Melvin_Mora         574\n",
       "Aubrey_Huff         650\n",
       "Adam_Stern          721\n",
       "Jeff_Fiorentino     794\n",
       "Freddie_Bynum       867\n",
       "Nick_Markakis       941\n",
       "Brandon_Fahey      1015\n",
       "Corey_Patterson    1084\n",
       "Jay_Payton         1154\n",
       "Erik_Bedard        1227\n",
       "Hayden_Penn        1302\n",
       "Adam_Loewen        1380\n",
       "Daniel_Cabrera     1459\n",
       "Name: Height, dtype: int64"
      ]
     },
     "execution_count": 23,
     "metadata": {},
     "output_type": "execute_result"
    }
   ],
   "source": [
    "#commulative sum over columns\n",
    "d['Height'].cumsum()"
   ]
  },
  {
   "cell_type": "markdown",
   "id": "012bb8b6",
   "metadata": {},
   "source": [
    "# find average of different entity"
   ]
  },
  {
   "cell_type": "code",
   "execution_count": 19,
   "id": "5aa22d7b",
   "metadata": {},
   "outputs": [
    {
     "data": {
      "text/plain": [
       "72.95"
      ]
     },
     "execution_count": 19,
     "metadata": {},
     "output_type": "execute_result"
    }
   ],
   "source": [
    "#mean over columns\n",
    "d['Height'].mean()"
   ]
  },
  {
   "cell_type": "code",
   "execution_count": 21,
   "id": "005b9601",
   "metadata": {},
   "outputs": [
    {
     "data": {
      "text/plain": [
       "195.0"
      ]
     },
     "execution_count": 21,
     "metadata": {},
     "output_type": "execute_result"
    }
   ],
   "source": [
    "#mean \n",
    "d['Weight'].mean()"
   ]
  },
  {
   "cell_type": "code",
   "execution_count": 24,
   "id": "3b50af8a",
   "metadata": {},
   "outputs": [
    {
     "data": {
      "text/plain": [
       "28.657500000000006"
      ]
     },
     "execution_count": 24,
     "metadata": {},
     "output_type": "execute_result"
    }
   ],
   "source": [
    "#age \n",
    "d['Age'].mean()"
   ]
  },
  {
   "cell_type": "markdown",
   "id": "6ba12663",
   "metadata": {},
   "source": [
    "# Standard deviation"
   ]
  },
  {
   "cell_type": "code",
   "execution_count": 18,
   "id": "fa260205",
   "metadata": {},
   "outputs": [
    {
     "data": {
      "text/plain": [
       "2.762054917705485"
      ]
     },
     "execution_count": 18,
     "metadata": {},
     "output_type": "execute_result"
    }
   ],
   "source": [
    "#standard deviation over columns\n",
    "d['Height'].std()"
   ]
  },
  {
   "cell_type": "code",
   "execution_count": 25,
   "id": "2adba0dd",
   "metadata": {},
   "outputs": [
    {
     "data": {
      "text/plain": [
       "4.559072937849491"
      ]
     },
     "execution_count": 25,
     "metadata": {},
     "output_type": "execute_result"
    }
   ],
   "source": [
    "#mean over columns\n",
    "d['Age'].std()"
   ]
  },
  {
   "cell_type": "markdown",
   "id": "48f32c38",
   "metadata": {},
   "source": [
    "# Count unique values"
   ]
  },
  {
   "cell_type": "code",
   "execution_count": 26,
   "id": "88ddd783",
   "metadata": {},
   "outputs": [
    {
     "data": {
      "text/plain": [
       "27.05    1\n",
       "30.19    1\n",
       "30.77    1\n",
       "26.96    1\n",
       "34.69    1\n",
       "22.38    1\n",
       "23.29    1\n",
       "25.76    1\n",
       "35.71    1\n",
       "35.07    1\n",
       "22.89    1\n",
       "29.39    1\n",
       "23.88    1\n",
       "30.78    1\n",
       "27.55    1\n",
       "34.27    1\n",
       "26.11    1\n",
       "27.99    1\n",
       "22.99    1\n",
       "35.43    1\n",
       "Name: Age, dtype: int64"
      ]
     },
     "execution_count": 26,
     "metadata": {},
     "output_type": "execute_result"
    }
   ],
   "source": [
    "d['Age'].value_counts()"
   ]
  },
  {
   "cell_type": "code",
   "execution_count": 27,
   "id": "208634ce",
   "metadata": {},
   "outputs": [
    {
     "data": {
      "text/plain": [
       "73    4\n",
       "74    4\n",
       "69    3\n",
       "71    2\n",
       "72    2\n",
       "70    1\n",
       "75    1\n",
       "76    1\n",
       "78    1\n",
       "79    1\n",
       "Name: Height, dtype: int64"
      ]
     },
     "execution_count": 27,
     "metadata": {},
     "output_type": "execute_result"
    }
   ],
   "source": [
    "d['Height'].value_counts()"
   ]
  },
  {
   "cell_type": "code",
   "execution_count": 28,
   "id": "ef2a6192",
   "metadata": {},
   "outputs": [
    {
     "data": {
      "text/plain": [
       "180    4\n",
       "185    3\n",
       "210    2\n",
       "188    2\n",
       "160    1\n",
       "230    1\n",
       "231    1\n",
       "200    1\n",
       "176    1\n",
       "209    1\n",
       "215    1\n",
       "219    1\n",
       "189    1\n",
       "Name: Weight, dtype: int64"
      ]
     },
     "execution_count": 28,
     "metadata": {},
     "output_type": "execute_result"
    }
   ],
   "source": [
    "d['Weight'].value_counts()"
   ]
  },
  {
   "cell_type": "markdown",
   "id": "62982869",
   "metadata": {},
   "source": [
    "# summarize decription statistics"
   ]
  },
  {
   "cell_type": "code",
   "execution_count": 32,
   "id": "9924cd61",
   "metadata": {},
   "outputs": [
    {
     "data": {
      "text/html": [
       "<div>\n",
       "<style scoped>\n",
       "    .dataframe tbody tr th:only-of-type {\n",
       "        vertical-align: middle;\n",
       "    }\n",
       "\n",
       "    .dataframe tbody tr th {\n",
       "        vertical-align: top;\n",
       "    }\n",
       "\n",
       "    .dataframe thead th {\n",
       "        text-align: right;\n",
       "    }\n",
       "</style>\n",
       "<table border=\"1\" class=\"dataframe\">\n",
       "  <thead>\n",
       "    <tr style=\"text-align: right;\">\n",
       "      <th></th>\n",
       "      <th>Height</th>\n",
       "      <th>Weight</th>\n",
       "      <th>Age</th>\n",
       "    </tr>\n",
       "  </thead>\n",
       "  <tbody>\n",
       "    <tr>\n",
       "      <th>count</th>\n",
       "      <td>1015.000000</td>\n",
       "      <td>1015.000000</td>\n",
       "      <td>1015.000000</td>\n",
       "    </tr>\n",
       "    <tr>\n",
       "      <th>mean</th>\n",
       "      <td>73.689655</td>\n",
       "      <td>201.348768</td>\n",
       "      <td>28.708355</td>\n",
       "    </tr>\n",
       "    <tr>\n",
       "      <th>std</th>\n",
       "      <td>2.313932</td>\n",
       "      <td>20.823115</td>\n",
       "      <td>4.314453</td>\n",
       "    </tr>\n",
       "    <tr>\n",
       "      <th>min</th>\n",
       "      <td>67.000000</td>\n",
       "      <td>150.000000</td>\n",
       "      <td>20.900000</td>\n",
       "    </tr>\n",
       "    <tr>\n",
       "      <th>25%</th>\n",
       "      <td>72.000000</td>\n",
       "      <td>186.000000</td>\n",
       "      <td>25.405000</td>\n",
       "    </tr>\n",
       "    <tr>\n",
       "      <th>50%</th>\n",
       "      <td>74.000000</td>\n",
       "      <td>200.000000</td>\n",
       "      <td>27.900000</td>\n",
       "    </tr>\n",
       "    <tr>\n",
       "      <th>75%</th>\n",
       "      <td>75.000000</td>\n",
       "      <td>215.000000</td>\n",
       "      <td>31.190000</td>\n",
       "    </tr>\n",
       "    <tr>\n",
       "      <th>max</th>\n",
       "      <td>83.000000</td>\n",
       "      <td>290.000000</td>\n",
       "      <td>48.520000</td>\n",
       "    </tr>\n",
       "  </tbody>\n",
       "</table>\n",
       "</div>"
      ],
      "text/plain": [
       "            Height       Weight          Age\n",
       "count  1015.000000  1015.000000  1015.000000\n",
       "mean     73.689655   201.348768    28.708355\n",
       "std       2.313932    20.823115     4.314453\n",
       "min      67.000000   150.000000    20.900000\n",
       "25%      72.000000   186.000000    25.405000\n",
       "50%      74.000000   200.000000    27.900000\n",
       "75%      75.000000   215.000000    31.190000\n",
       "max      83.000000   290.000000    48.520000"
      ]
     },
     "execution_count": 32,
     "metadata": {},
     "output_type": "execute_result"
    }
   ],
   "source": [
    "df.describe()"
   ]
  },
  {
   "cell_type": "code",
   "execution_count": null,
   "id": "71f378bb",
   "metadata": {},
   "outputs": [],
   "source": []
  }
 ],
 "metadata": {
  "kernelspec": {
   "display_name": "Python 3 (ipykernel)",
   "language": "python",
   "name": "python3"
  },
  "language_info": {
   "codemirror_mode": {
    "name": "ipython",
    "version": 3
   },
   "file_extension": ".py",
   "mimetype": "text/x-python",
   "name": "python",
   "nbconvert_exporter": "python",
   "pygments_lexer": "ipython3",
   "version": "3.8.8"
  }
 },
 "nbformat": 4,
 "nbformat_minor": 5
}
