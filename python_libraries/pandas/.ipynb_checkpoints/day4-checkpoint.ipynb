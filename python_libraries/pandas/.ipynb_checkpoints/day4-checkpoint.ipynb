{
 "cells": [
  {
   "cell_type": "code",
   "execution_count": 1,
   "id": "4490a515",
   "metadata": {},
   "outputs": [
    {
     "data": {
      "text/html": [
       "<div>\n",
       "<style scoped>\n",
       "    .dataframe tbody tr th:only-of-type {\n",
       "        vertical-align: middle;\n",
       "    }\n",
       "\n",
       "    .dataframe tbody tr th {\n",
       "        vertical-align: top;\n",
       "    }\n",
       "\n",
       "    .dataframe thead th {\n",
       "        text-align: right;\n",
       "    }\n",
       "</style>\n",
       "<table border=\"1\" class=\"dataframe\">\n",
       "  <thead>\n",
       "    <tr style=\"text-align: right;\">\n",
       "      <th></th>\n",
       "      <th>Team</th>\n",
       "      <th>Position</th>\n",
       "      <th>Height</th>\n",
       "      <th>Weight</th>\n",
       "      <th>Age</th>\n",
       "      <th>PosCategory</th>\n",
       "    </tr>\n",
       "    <tr>\n",
       "      <th>Name</th>\n",
       "      <th></th>\n",
       "      <th></th>\n",
       "      <th></th>\n",
       "      <th></th>\n",
       "      <th></th>\n",
       "      <th></th>\n",
       "    </tr>\n",
       "  </thead>\n",
       "  <tbody>\n",
       "    <tr>\n",
       "      <th>Adam_Donachie</th>\n",
       "      <td>BAL</td>\n",
       "      <td>Catcher</td>\n",
       "      <td>74</td>\n",
       "      <td>180</td>\n",
       "      <td>22.99</td>\n",
       "      <td>Catcher</td>\n",
       "    </tr>\n",
       "    <tr>\n",
       "      <th>Paul_Bako</th>\n",
       "      <td>BAL</td>\n",
       "      <td>Catcher</td>\n",
       "      <td>74</td>\n",
       "      <td>215</td>\n",
       "      <td>34.69</td>\n",
       "      <td>Catcher</td>\n",
       "    </tr>\n",
       "    <tr>\n",
       "      <th>Ramon_Hernandez</th>\n",
       "      <td>BAL</td>\n",
       "      <td>Catcher</td>\n",
       "      <td>72</td>\n",
       "      <td>210</td>\n",
       "      <td>30.78</td>\n",
       "      <td>Catcher</td>\n",
       "    </tr>\n",
       "    <tr>\n",
       "      <th>Kevin_Millar</th>\n",
       "      <td>BAL</td>\n",
       "      <td>First_Baseman</td>\n",
       "      <td>72</td>\n",
       "      <td>210</td>\n",
       "      <td>35.43</td>\n",
       "      <td>Infielder</td>\n",
       "    </tr>\n",
       "    <tr>\n",
       "      <th>Chris_Gomez</th>\n",
       "      <td>BAL</td>\n",
       "      <td>First_Baseman</td>\n",
       "      <td>73</td>\n",
       "      <td>188</td>\n",
       "      <td>35.71</td>\n",
       "      <td>Infielder</td>\n",
       "    </tr>\n",
       "    <tr>\n",
       "      <th>...</th>\n",
       "      <td>...</td>\n",
       "      <td>...</td>\n",
       "      <td>...</td>\n",
       "      <td>...</td>\n",
       "      <td>...</td>\n",
       "      <td>...</td>\n",
       "    </tr>\n",
       "    <tr>\n",
       "      <th>Brad_Thompson</th>\n",
       "      <td>STL</td>\n",
       "      <td>Relief_Pitcher</td>\n",
       "      <td>73</td>\n",
       "      <td>190</td>\n",
       "      <td>25.08</td>\n",
       "      <td>Pitcher</td>\n",
       "    </tr>\n",
       "    <tr>\n",
       "      <th>Tyler_Johnson</th>\n",
       "      <td>STL</td>\n",
       "      <td>Relief_Pitcher</td>\n",
       "      <td>74</td>\n",
       "      <td>180</td>\n",
       "      <td>25.73</td>\n",
       "      <td>Pitcher</td>\n",
       "    </tr>\n",
       "    <tr>\n",
       "      <th>Chris_Narveson</th>\n",
       "      <td>STL</td>\n",
       "      <td>Relief_Pitcher</td>\n",
       "      <td>75</td>\n",
       "      <td>205</td>\n",
       "      <td>25.19</td>\n",
       "      <td>Pitcher</td>\n",
       "    </tr>\n",
       "    <tr>\n",
       "      <th>Randy_Keisler</th>\n",
       "      <td>STL</td>\n",
       "      <td>Relief_Pitcher</td>\n",
       "      <td>75</td>\n",
       "      <td>190</td>\n",
       "      <td>31.01</td>\n",
       "      <td>Pitcher</td>\n",
       "    </tr>\n",
       "    <tr>\n",
       "      <th>Josh_Kinney</th>\n",
       "      <td>STL</td>\n",
       "      <td>Relief_Pitcher</td>\n",
       "      <td>73</td>\n",
       "      <td>195</td>\n",
       "      <td>27.92</td>\n",
       "      <td>Pitcher</td>\n",
       "    </tr>\n",
       "  </tbody>\n",
       "</table>\n",
       "<p>1015 rows × 6 columns</p>\n",
       "</div>"
      ],
      "text/plain": [
       "                Team        Position  Height  Weight    Age PosCategory\n",
       "Name                                                                   \n",
       "Adam_Donachie    BAL         Catcher      74     180  22.99     Catcher\n",
       "Paul_Bako        BAL         Catcher      74     215  34.69     Catcher\n",
       "Ramon_Hernandez  BAL         Catcher      72     210  30.78     Catcher\n",
       "Kevin_Millar     BAL   First_Baseman      72     210  35.43   Infielder\n",
       "Chris_Gomez      BAL   First_Baseman      73     188  35.71   Infielder\n",
       "...              ...             ...     ...     ...    ...         ...\n",
       "Brad_Thompson    STL  Relief_Pitcher      73     190  25.08     Pitcher\n",
       "Tyler_Johnson    STL  Relief_Pitcher      74     180  25.73     Pitcher\n",
       "Chris_Narveson   STL  Relief_Pitcher      75     205  25.19     Pitcher\n",
       "Randy_Keisler    STL  Relief_Pitcher      75     190  31.01     Pitcher\n",
       "Josh_Kinney      STL  Relief_Pitcher      73     195  27.92     Pitcher\n",
       "\n",
       "[1015 rows x 6 columns]"
      ]
     },
     "execution_count": 1,
     "metadata": {},
     "output_type": "execute_result"
    }
   ],
   "source": [
    "#read csv file\n",
    "import pandas as pd\n",
    "df=pd.read_csv('baseball.csv',index_col=0)\n",
    "df"
   ]
  },
  {
   "cell_type": "markdown",
   "id": "60941b1f",
   "metadata": {},
   "source": [
    "# Hierarchial Indexing"
   ]
  },
  {
   "cell_type": "code",
   "execution_count": 3,
   "id": "50d70a56",
   "metadata": {},
   "outputs": [
    {
     "data": {
      "text/plain": [
       "Name                        \n",
       "Adam_Donachie    Team                     BAL\n",
       "                 Position             Catcher\n",
       "                 Height                    74\n",
       "                 Weight                   180\n",
       "                 Age                    22.99\n",
       "                 PosCategory          Catcher\n",
       "Paul_Bako        Team                     BAL\n",
       "                 Position             Catcher\n",
       "                 Height                    74\n",
       "                 Weight                   215\n",
       "                 Age                    34.69\n",
       "                 PosCategory          Catcher\n",
       "Ramon_Hernandez  Team                     BAL\n",
       "                 Position             Catcher\n",
       "                 Height                    72\n",
       "                 Weight                   210\n",
       "                 Age                    30.78\n",
       "                 PosCategory          Catcher\n",
       "Kevin_Millar     Team                     BAL\n",
       "                 Position       First_Baseman\n",
       "                 Height                    72\n",
       "                 Weight                   210\n",
       "                 Age                    35.43\n",
       "                 PosCategory        Infielder\n",
       "Chris_Gomez      Team                     BAL\n",
       "                 Position       First_Baseman\n",
       "                 Height                    73\n",
       "                 Weight                   188\n",
       "                 Age                    35.71\n",
       "                 PosCategory        Infielder\n",
       "dtype: object"
      ]
     },
     "execution_count": 3,
     "metadata": {},
     "output_type": "execute_result"
    }
   ],
   "source": [
    "#create hierarchical index\n",
    "df1=df.head(5)\n",
    "df1.stack()"
   ]
  },
  {
   "cell_type": "code",
   "execution_count": 4,
   "id": "c40fd7c8",
   "metadata": {},
   "outputs": [
    {
     "data": {
      "text/plain": [
       "             Name           \n",
       "Team         Adam_Donachie                BAL\n",
       "             Paul_Bako                    BAL\n",
       "             Ramon_Hernandez              BAL\n",
       "             Kevin_Millar                 BAL\n",
       "             Chris_Gomez                  BAL\n",
       "Position     Adam_Donachie            Catcher\n",
       "             Paul_Bako                Catcher\n",
       "             Ramon_Hernandez          Catcher\n",
       "             Kevin_Millar       First_Baseman\n",
       "             Chris_Gomez        First_Baseman\n",
       "Height       Adam_Donachie                 74\n",
       "             Paul_Bako                     74\n",
       "             Ramon_Hernandez               72\n",
       "             Kevin_Millar                  72\n",
       "             Chris_Gomez                   73\n",
       "Weight       Adam_Donachie                180\n",
       "             Paul_Bako                    215\n",
       "             Ramon_Hernandez              210\n",
       "             Kevin_Millar                 210\n",
       "             Chris_Gomez                  188\n",
       "Age          Adam_Donachie              22.99\n",
       "             Paul_Bako                  34.69\n",
       "             Ramon_Hernandez            30.78\n",
       "             Kevin_Millar               35.43\n",
       "             Chris_Gomez                35.71\n",
       "PosCategory  Adam_Donachie            Catcher\n",
       "             Paul_Bako                Catcher\n",
       "             Ramon_Hernandez          Catcher\n",
       "             Kevin_Millar           Infielder\n",
       "             Chris_Gomez            Infielder\n",
       "dtype: object"
      ]
     },
     "execution_count": 4,
     "metadata": {},
     "output_type": "execute_result"
    }
   ],
   "source": [
    "#dissolve hierarchical index\n",
    "df1.unstack()"
   ]
  },
  {
   "cell_type": "markdown",
   "id": "3c9f0e8b",
   "metadata": {},
   "source": [
    "# Aggregation"
   ]
  },
  {
   "cell_type": "code",
   "execution_count": 12,
   "id": "ea59f453",
   "metadata": {},
   "outputs": [
    {
     "data": {
      "text/plain": [
       "<pandas.core.groupby.generic.DataFrameGroupBy object at 0x7f12bffdb490>"
      ]
     },
     "execution_count": 12,
     "metadata": {},
     "output_type": "execute_result"
    }
   ],
   "source": [
    "#create group object\n",
    "g=df1.groupby('Age')\n",
    "g"
   ]
  },
  {
   "cell_type": "code",
   "execution_count": 13,
   "id": "7b6b34ab",
   "metadata": {},
   "outputs": [
    {
     "name": "stdout",
     "output_type": "stream",
     "text": [
      "22.99               Team Position  Height  Weight    Age PosCategory\n",
      "Name                                                          \n",
      "Adam_Donachie  BAL  Catcher      74     180  22.99     Catcher\n",
      "30.78                 Team Position  Height  Weight    Age PosCategory\n",
      "Name                                                            \n",
      "Ramon_Hernandez  BAL  Catcher      72     210  30.78     Catcher\n",
      "34.69           Team Position  Height  Weight    Age PosCategory\n",
      "Name                                                      \n",
      "Paul_Bako  BAL  Catcher      74     215  34.69     Catcher\n",
      "35.43              Team       Position  Height  Weight    Age PosCategory\n",
      "Name                                                               \n",
      "Kevin_Millar  BAL  First_Baseman      72     210  35.43   Infielder\n",
      "35.71             Team       Position  Height  Weight    Age PosCategory\n",
      "Name                                                              \n",
      "Chris_Gomez  BAL  First_Baseman      73     188  35.71   Infielder\n"
     ]
    }
   ],
   "source": [
    "#Iterate  over groups\n",
    "for i,group in g:\n",
    "    print(i,group)"
   ]
  },
  {
   "cell_type": "markdown",
   "id": "9818bb36",
   "metadata": {},
   "source": [
    "# Aggregate Groups"
   ]
  },
  {
   "cell_type": "code",
   "execution_count": 14,
   "id": "45b78f31",
   "metadata": {},
   "outputs": [
    {
     "data": {
      "text/html": [
       "<div>\n",
       "<style scoped>\n",
       "    .dataframe tbody tr th:only-of-type {\n",
       "        vertical-align: middle;\n",
       "    }\n",
       "\n",
       "    .dataframe tbody tr th {\n",
       "        vertical-align: top;\n",
       "    }\n",
       "\n",
       "    .dataframe thead th {\n",
       "        text-align: right;\n",
       "    }\n",
       "</style>\n",
       "<table border=\"1\" class=\"dataframe\">\n",
       "  <thead>\n",
       "    <tr style=\"text-align: right;\">\n",
       "      <th></th>\n",
       "      <th>Height</th>\n",
       "      <th>Weight</th>\n",
       "    </tr>\n",
       "    <tr>\n",
       "      <th>Age</th>\n",
       "      <th></th>\n",
       "      <th></th>\n",
       "    </tr>\n",
       "  </thead>\n",
       "  <tbody>\n",
       "    <tr>\n",
       "      <th>22.99</th>\n",
       "      <td>74</td>\n",
       "      <td>180</td>\n",
       "    </tr>\n",
       "    <tr>\n",
       "      <th>30.78</th>\n",
       "      <td>72</td>\n",
       "      <td>210</td>\n",
       "    </tr>\n",
       "    <tr>\n",
       "      <th>34.69</th>\n",
       "      <td>74</td>\n",
       "      <td>215</td>\n",
       "    </tr>\n",
       "    <tr>\n",
       "      <th>35.43</th>\n",
       "      <td>72</td>\n",
       "      <td>210</td>\n",
       "    </tr>\n",
       "    <tr>\n",
       "      <th>35.71</th>\n",
       "      <td>73</td>\n",
       "      <td>188</td>\n",
       "    </tr>\n",
       "  </tbody>\n",
       "</table>\n",
       "</div>"
      ],
      "text/plain": [
       "       Height  Weight\n",
       "Age                  \n",
       "22.99      74     180\n",
       "30.78      72     210\n",
       "34.69      74     215\n",
       "35.43      72     210\n",
       "35.71      73     188"
      ]
     },
     "execution_count": 14,
     "metadata": {},
     "output_type": "execute_result"
    }
   ],
   "source": [
    "g.sum()"
   ]
  },
  {
   "cell_type": "code",
   "execution_count": 16,
   "id": "a5302184",
   "metadata": {},
   "outputs": [
    {
     "data": {
      "text/html": [
       "<div>\n",
       "<style scoped>\n",
       "    .dataframe tbody tr th:only-of-type {\n",
       "        vertical-align: middle;\n",
       "    }\n",
       "\n",
       "    .dataframe tbody tr th {\n",
       "        vertical-align: top;\n",
       "    }\n",
       "\n",
       "    .dataframe thead th {\n",
       "        text-align: right;\n",
       "    }\n",
       "</style>\n",
       "<table border=\"1\" class=\"dataframe\">\n",
       "  <thead>\n",
       "    <tr style=\"text-align: right;\">\n",
       "      <th></th>\n",
       "      <th>Height</th>\n",
       "      <th>Weight</th>\n",
       "    </tr>\n",
       "    <tr>\n",
       "      <th>Age</th>\n",
       "      <th></th>\n",
       "      <th></th>\n",
       "    </tr>\n",
       "  </thead>\n",
       "  <tbody>\n",
       "    <tr>\n",
       "      <th>22.99</th>\n",
       "      <td>74</td>\n",
       "      <td>180</td>\n",
       "    </tr>\n",
       "    <tr>\n",
       "      <th>30.78</th>\n",
       "      <td>72</td>\n",
       "      <td>210</td>\n",
       "    </tr>\n",
       "    <tr>\n",
       "      <th>34.69</th>\n",
       "      <td>74</td>\n",
       "      <td>215</td>\n",
       "    </tr>\n",
       "    <tr>\n",
       "      <th>35.43</th>\n",
       "      <td>72</td>\n",
       "      <td>210</td>\n",
       "    </tr>\n",
       "    <tr>\n",
       "      <th>35.71</th>\n",
       "      <td>73</td>\n",
       "      <td>188</td>\n",
       "    </tr>\n",
       "  </tbody>\n",
       "</table>\n",
       "</div>"
      ],
      "text/plain": [
       "       Height  Weight\n",
       "Age                  \n",
       "22.99      74     180\n",
       "30.78      72     210\n",
       "34.69      74     215\n",
       "35.43      72     210\n",
       "35.71      73     188"
      ]
     },
     "execution_count": 16,
     "metadata": {},
     "output_type": "execute_result"
    }
   ],
   "source": [
    "g.prod()"
   ]
  },
  {
   "cell_type": "code",
   "execution_count": 17,
   "id": "1a6b8526",
   "metadata": {},
   "outputs": [
    {
     "data": {
      "text/html": [
       "<div>\n",
       "<style scoped>\n",
       "    .dataframe tbody tr th:only-of-type {\n",
       "        vertical-align: middle;\n",
       "    }\n",
       "\n",
       "    .dataframe tbody tr th {\n",
       "        vertical-align: top;\n",
       "    }\n",
       "\n",
       "    .dataframe thead th {\n",
       "        text-align: right;\n",
       "    }\n",
       "</style>\n",
       "<table border=\"1\" class=\"dataframe\">\n",
       "  <thead>\n",
       "    <tr style=\"text-align: right;\">\n",
       "      <th></th>\n",
       "      <th>Height</th>\n",
       "      <th>Weight</th>\n",
       "    </tr>\n",
       "    <tr>\n",
       "      <th>Age</th>\n",
       "      <th></th>\n",
       "      <th></th>\n",
       "    </tr>\n",
       "  </thead>\n",
       "  <tbody>\n",
       "    <tr>\n",
       "      <th>22.99</th>\n",
       "      <td>74</td>\n",
       "      <td>180</td>\n",
       "    </tr>\n",
       "    <tr>\n",
       "      <th>30.78</th>\n",
       "      <td>72</td>\n",
       "      <td>210</td>\n",
       "    </tr>\n",
       "    <tr>\n",
       "      <th>34.69</th>\n",
       "      <td>74</td>\n",
       "      <td>215</td>\n",
       "    </tr>\n",
       "    <tr>\n",
       "      <th>35.43</th>\n",
       "      <td>72</td>\n",
       "      <td>210</td>\n",
       "    </tr>\n",
       "    <tr>\n",
       "      <th>35.71</th>\n",
       "      <td>73</td>\n",
       "      <td>188</td>\n",
       "    </tr>\n",
       "  </tbody>\n",
       "</table>\n",
       "</div>"
      ],
      "text/plain": [
       "       Height  Weight\n",
       "Age                  \n",
       "22.99      74     180\n",
       "30.78      72     210\n",
       "34.69      74     215\n",
       "35.43      72     210\n",
       "35.71      73     188"
      ]
     },
     "execution_count": 17,
     "metadata": {},
     "output_type": "execute_result"
    }
   ],
   "source": [
    "g.mean()"
   ]
  },
  {
   "cell_type": "code",
   "execution_count": 18,
   "id": "5694041c",
   "metadata": {},
   "outputs": [
    {
     "data": {
      "text/html": [
       "<div>\n",
       "<style scoped>\n",
       "    .dataframe tbody tr th:only-of-type {\n",
       "        vertical-align: middle;\n",
       "    }\n",
       "\n",
       "    .dataframe tbody tr th {\n",
       "        vertical-align: top;\n",
       "    }\n",
       "\n",
       "    .dataframe thead th {\n",
       "        text-align: right;\n",
       "    }\n",
       "</style>\n",
       "<table border=\"1\" class=\"dataframe\">\n",
       "  <thead>\n",
       "    <tr style=\"text-align: right;\">\n",
       "      <th></th>\n",
       "      <th>Height</th>\n",
       "      <th>Weight</th>\n",
       "    </tr>\n",
       "    <tr>\n",
       "      <th>Age</th>\n",
       "      <th></th>\n",
       "      <th></th>\n",
       "    </tr>\n",
       "  </thead>\n",
       "  <tbody>\n",
       "    <tr>\n",
       "      <th>22.99</th>\n",
       "      <td>NaN</td>\n",
       "      <td>NaN</td>\n",
       "    </tr>\n",
       "    <tr>\n",
       "      <th>30.78</th>\n",
       "      <td>NaN</td>\n",
       "      <td>NaN</td>\n",
       "    </tr>\n",
       "    <tr>\n",
       "      <th>34.69</th>\n",
       "      <td>NaN</td>\n",
       "      <td>NaN</td>\n",
       "    </tr>\n",
       "    <tr>\n",
       "      <th>35.43</th>\n",
       "      <td>NaN</td>\n",
       "      <td>NaN</td>\n",
       "    </tr>\n",
       "    <tr>\n",
       "      <th>35.71</th>\n",
       "      <td>NaN</td>\n",
       "      <td>NaN</td>\n",
       "    </tr>\n",
       "  </tbody>\n",
       "</table>\n",
       "</div>"
      ],
      "text/plain": [
       "       Height  Weight\n",
       "Age                  \n",
       "22.99     NaN     NaN\n",
       "30.78     NaN     NaN\n",
       "34.69     NaN     NaN\n",
       "35.43     NaN     NaN\n",
       "35.71     NaN     NaN"
      ]
     },
     "execution_count": 18,
     "metadata": {},
     "output_type": "execute_result"
    }
   ],
   "source": [
    "g.std()"
   ]
  },
  {
   "cell_type": "code",
   "execution_count": 19,
   "id": "72cbc1f0",
   "metadata": {},
   "outputs": [
    {
     "data": {
      "text/html": [
       "<div>\n",
       "<style scoped>\n",
       "    .dataframe tbody tr th:only-of-type {\n",
       "        vertical-align: middle;\n",
       "    }\n",
       "\n",
       "    .dataframe tbody tr th {\n",
       "        vertical-align: top;\n",
       "    }\n",
       "\n",
       "    .dataframe thead tr th {\n",
       "        text-align: left;\n",
       "    }\n",
       "\n",
       "    .dataframe thead tr:last-of-type th {\n",
       "        text-align: right;\n",
       "    }\n",
       "</style>\n",
       "<table border=\"1\" class=\"dataframe\">\n",
       "  <thead>\n",
       "    <tr>\n",
       "      <th></th>\n",
       "      <th colspan=\"8\" halign=\"left\">Height</th>\n",
       "      <th colspan=\"8\" halign=\"left\">Weight</th>\n",
       "    </tr>\n",
       "    <tr>\n",
       "      <th></th>\n",
       "      <th>count</th>\n",
       "      <th>mean</th>\n",
       "      <th>std</th>\n",
       "      <th>min</th>\n",
       "      <th>25%</th>\n",
       "      <th>50%</th>\n",
       "      <th>75%</th>\n",
       "      <th>max</th>\n",
       "      <th>count</th>\n",
       "      <th>mean</th>\n",
       "      <th>std</th>\n",
       "      <th>min</th>\n",
       "      <th>25%</th>\n",
       "      <th>50%</th>\n",
       "      <th>75%</th>\n",
       "      <th>max</th>\n",
       "    </tr>\n",
       "    <tr>\n",
       "      <th>Age</th>\n",
       "      <th></th>\n",
       "      <th></th>\n",
       "      <th></th>\n",
       "      <th></th>\n",
       "      <th></th>\n",
       "      <th></th>\n",
       "      <th></th>\n",
       "      <th></th>\n",
       "      <th></th>\n",
       "      <th></th>\n",
       "      <th></th>\n",
       "      <th></th>\n",
       "      <th></th>\n",
       "      <th></th>\n",
       "      <th></th>\n",
       "      <th></th>\n",
       "    </tr>\n",
       "  </thead>\n",
       "  <tbody>\n",
       "    <tr>\n",
       "      <th>22.99</th>\n",
       "      <td>1.0</td>\n",
       "      <td>74.0</td>\n",
       "      <td>NaN</td>\n",
       "      <td>74.0</td>\n",
       "      <td>74.0</td>\n",
       "      <td>74.0</td>\n",
       "      <td>74.0</td>\n",
       "      <td>74.0</td>\n",
       "      <td>1.0</td>\n",
       "      <td>180.0</td>\n",
       "      <td>NaN</td>\n",
       "      <td>180.0</td>\n",
       "      <td>180.0</td>\n",
       "      <td>180.0</td>\n",
       "      <td>180.0</td>\n",
       "      <td>180.0</td>\n",
       "    </tr>\n",
       "    <tr>\n",
       "      <th>30.78</th>\n",
       "      <td>1.0</td>\n",
       "      <td>72.0</td>\n",
       "      <td>NaN</td>\n",
       "      <td>72.0</td>\n",
       "      <td>72.0</td>\n",
       "      <td>72.0</td>\n",
       "      <td>72.0</td>\n",
       "      <td>72.0</td>\n",
       "      <td>1.0</td>\n",
       "      <td>210.0</td>\n",
       "      <td>NaN</td>\n",
       "      <td>210.0</td>\n",
       "      <td>210.0</td>\n",
       "      <td>210.0</td>\n",
       "      <td>210.0</td>\n",
       "      <td>210.0</td>\n",
       "    </tr>\n",
       "    <tr>\n",
       "      <th>34.69</th>\n",
       "      <td>1.0</td>\n",
       "      <td>74.0</td>\n",
       "      <td>NaN</td>\n",
       "      <td>74.0</td>\n",
       "      <td>74.0</td>\n",
       "      <td>74.0</td>\n",
       "      <td>74.0</td>\n",
       "      <td>74.0</td>\n",
       "      <td>1.0</td>\n",
       "      <td>215.0</td>\n",
       "      <td>NaN</td>\n",
       "      <td>215.0</td>\n",
       "      <td>215.0</td>\n",
       "      <td>215.0</td>\n",
       "      <td>215.0</td>\n",
       "      <td>215.0</td>\n",
       "    </tr>\n",
       "    <tr>\n",
       "      <th>35.43</th>\n",
       "      <td>1.0</td>\n",
       "      <td>72.0</td>\n",
       "      <td>NaN</td>\n",
       "      <td>72.0</td>\n",
       "      <td>72.0</td>\n",
       "      <td>72.0</td>\n",
       "      <td>72.0</td>\n",
       "      <td>72.0</td>\n",
       "      <td>1.0</td>\n",
       "      <td>210.0</td>\n",
       "      <td>NaN</td>\n",
       "      <td>210.0</td>\n",
       "      <td>210.0</td>\n",
       "      <td>210.0</td>\n",
       "      <td>210.0</td>\n",
       "      <td>210.0</td>\n",
       "    </tr>\n",
       "    <tr>\n",
       "      <th>35.71</th>\n",
       "      <td>1.0</td>\n",
       "      <td>73.0</td>\n",
       "      <td>NaN</td>\n",
       "      <td>73.0</td>\n",
       "      <td>73.0</td>\n",
       "      <td>73.0</td>\n",
       "      <td>73.0</td>\n",
       "      <td>73.0</td>\n",
       "      <td>1.0</td>\n",
       "      <td>188.0</td>\n",
       "      <td>NaN</td>\n",
       "      <td>188.0</td>\n",
       "      <td>188.0</td>\n",
       "      <td>188.0</td>\n",
       "      <td>188.0</td>\n",
       "      <td>188.0</td>\n",
       "    </tr>\n",
       "  </tbody>\n",
       "</table>\n",
       "</div>"
      ],
      "text/plain": [
       "      Height                                         Weight                    \\\n",
       "       count  mean std   min   25%   50%   75%   max  count   mean std    min   \n",
       "Age                                                                             \n",
       "22.99    1.0  74.0 NaN  74.0  74.0  74.0  74.0  74.0    1.0  180.0 NaN  180.0   \n",
       "30.78    1.0  72.0 NaN  72.0  72.0  72.0  72.0  72.0    1.0  210.0 NaN  210.0   \n",
       "34.69    1.0  74.0 NaN  74.0  74.0  74.0  74.0  74.0    1.0  215.0 NaN  215.0   \n",
       "35.43    1.0  72.0 NaN  72.0  72.0  72.0  72.0  72.0    1.0  210.0 NaN  210.0   \n",
       "35.71    1.0  73.0 NaN  73.0  73.0  73.0  73.0  73.0    1.0  188.0 NaN  188.0   \n",
       "\n",
       "                                   \n",
       "         25%    50%    75%    max  \n",
       "Age                                \n",
       "22.99  180.0  180.0  180.0  180.0  \n",
       "30.78  210.0  210.0  210.0  210.0  \n",
       "34.69  215.0  215.0  215.0  215.0  \n",
       "35.43  210.0  210.0  210.0  210.0  \n",
       "35.71  188.0  188.0  188.0  188.0  "
      ]
     },
     "execution_count": 19,
     "metadata": {},
     "output_type": "execute_result"
    }
   ],
   "source": [
    "g.describe()"
   ]
  },
  {
   "cell_type": "markdown",
   "id": "cb94cb68",
   "metadata": {},
   "source": [
    "# select columns from groups"
   ]
  },
  {
   "cell_type": "code",
   "execution_count": 21,
   "id": "913df4f2",
   "metadata": {},
   "outputs": [
    {
     "data": {
      "text/plain": [
       "Age\n",
       "22.99    22.99\n",
       "30.78    30.78\n",
       "34.69    34.69\n",
       "35.43    35.43\n",
       "35.71    35.71\n",
       "Name: Age, dtype: float64"
      ]
     },
     "execution_count": 21,
     "metadata": {},
     "output_type": "execute_result"
    }
   ],
   "source": [
    "g['Age'].sum()"
   ]
  },
  {
   "cell_type": "code",
   "execution_count": 22,
   "id": "2871fa77",
   "metadata": {},
   "outputs": [
    {
     "data": {
      "text/html": [
       "<div>\n",
       "<style scoped>\n",
       "    .dataframe tbody tr th:only-of-type {\n",
       "        vertical-align: middle;\n",
       "    }\n",
       "\n",
       "    .dataframe tbody tr th {\n",
       "        vertical-align: top;\n",
       "    }\n",
       "\n",
       "    .dataframe thead th {\n",
       "        text-align: right;\n",
       "    }\n",
       "</style>\n",
       "<table border=\"1\" class=\"dataframe\">\n",
       "  <thead>\n",
       "    <tr style=\"text-align: right;\">\n",
       "      <th></th>\n",
       "      <th>Age</th>\n",
       "      <th>Weight</th>\n",
       "    </tr>\n",
       "    <tr>\n",
       "      <th>Age</th>\n",
       "      <th></th>\n",
       "      <th></th>\n",
       "    </tr>\n",
       "  </thead>\n",
       "  <tbody>\n",
       "    <tr>\n",
       "      <th>22.99</th>\n",
       "      <td>22.99</td>\n",
       "      <td>180</td>\n",
       "    </tr>\n",
       "    <tr>\n",
       "      <th>30.78</th>\n",
       "      <td>30.78</td>\n",
       "      <td>210</td>\n",
       "    </tr>\n",
       "    <tr>\n",
       "      <th>34.69</th>\n",
       "      <td>34.69</td>\n",
       "      <td>215</td>\n",
       "    </tr>\n",
       "    <tr>\n",
       "      <th>35.43</th>\n",
       "      <td>35.43</td>\n",
       "      <td>210</td>\n",
       "    </tr>\n",
       "    <tr>\n",
       "      <th>35.71</th>\n",
       "      <td>35.71</td>\n",
       "      <td>188</td>\n",
       "    </tr>\n",
       "  </tbody>\n",
       "</table>\n",
       "</div>"
      ],
      "text/plain": [
       "         Age  Weight\n",
       "Age                 \n",
       "22.99  22.99     180\n",
       "30.78  30.78     210\n",
       "34.69  34.69     215\n",
       "35.43  35.43     210\n",
       "35.71  35.71     188"
      ]
     },
     "execution_count": 22,
     "metadata": {},
     "output_type": "execute_result"
    }
   ],
   "source": [
    "g[['Age','Weight']].sum()"
   ]
  },
  {
   "cell_type": "markdown",
   "id": "93f2cc7a",
   "metadata": {},
   "source": [
    "# Transform values"
   ]
  },
  {
   "cell_type": "code",
   "execution_count": 26,
   "id": "7ba7debd",
   "metadata": {},
   "outputs": [],
   "source": [
    "# import math\n",
    "# g.transform(math.log)"
   ]
  },
  {
   "cell_type": "markdown",
   "id": "14048ca3",
   "metadata": {},
   "source": [
    "# Data  Export"
   ]
  },
  {
   "cell_type": "code",
   "execution_count": 28,
   "id": "017213d6",
   "metadata": {},
   "outputs": [
    {
     "data": {
      "text/plain": [
       "array([['BAL', 'Catcher', 74, 180, 22.99, 'Catcher'],\n",
       "       ['BAL', 'Catcher', 74, 215, 34.69, 'Catcher'],\n",
       "       ['BAL', 'Catcher', 72, 210, 30.78, 'Catcher'],\n",
       "       ...,\n",
       "       ['STL', 'Relief_Pitcher', 75, 205, 25.19, 'Pitcher'],\n",
       "       ['STL', 'Relief_Pitcher', 75, 190, 31.01, 'Pitcher'],\n",
       "       ['STL', 'Relief_Pitcher', 73, 195, 27.92, 'Pitcher']], dtype=object)"
      ]
     },
     "execution_count": 28,
     "metadata": {},
     "output_type": "execute_result"
    }
   ],
   "source": [
    "#data as Numpy array\n",
    "df.values"
   ]
  },
  {
   "cell_type": "code",
   "execution_count": 29,
   "id": "ac02ab37",
   "metadata": {},
   "outputs": [],
   "source": [
    "#save data as CSV file\n",
    "df.to_csv('output.csv',sep=\",\")"
   ]
  },
  {
   "cell_type": "code",
   "execution_count": 34,
   "id": "35dd4b66",
   "metadata": {},
   "outputs": [
    {
     "data": {
      "text/plain": [
       "'                Team       Position  Height  Weight    Age PosCategory\\nName                                                                  \\nAdam_Donachie    BAL        Catcher      74     180  22.99     Catcher\\nPaul_Bako        BAL        Catcher      74     215  34.69     Catcher\\nRamon_Hernandez  BAL        Catcher      72     210  30.78     Catcher\\nKevin_Millar     BAL  First_Baseman      72     210  35.43   Infielder\\nChris_Gomez      BAL  First_Baseman      73     188  35.71   Infielder'"
      ]
     },
     "execution_count": 34,
     "metadata": {},
     "output_type": "execute_result"
    }
   ],
   "source": [
    "#Format a dataframe as tabular string:\n",
    "df1.to_string()"
   ]
  },
  {
   "cell_type": "code",
   "execution_count": 33,
   "id": "c7bd1be5",
   "metadata": {},
   "outputs": [
    {
     "data": {
      "text/plain": [
       "{'Team': {'Adam_Donachie': 'BAL',\n",
       "  'Paul_Bako': 'BAL',\n",
       "  'Ramon_Hernandez': 'BAL',\n",
       "  'Kevin_Millar': 'BAL',\n",
       "  'Chris_Gomez': 'BAL'},\n",
       " 'Position': {'Adam_Donachie': 'Catcher',\n",
       "  'Paul_Bako': 'Catcher',\n",
       "  'Ramon_Hernandez': 'Catcher',\n",
       "  'Kevin_Millar': 'First_Baseman',\n",
       "  'Chris_Gomez': 'First_Baseman'},\n",
       " 'Height': {'Adam_Donachie': 74,\n",
       "  'Paul_Bako': 74,\n",
       "  'Ramon_Hernandez': 72,\n",
       "  'Kevin_Millar': 72,\n",
       "  'Chris_Gomez': 73},\n",
       " 'Weight': {'Adam_Donachie': 180,\n",
       "  'Paul_Bako': 215,\n",
       "  'Ramon_Hernandez': 210,\n",
       "  'Kevin_Millar': 210,\n",
       "  'Chris_Gomez': 188},\n",
       " 'Age': {'Adam_Donachie': 22.99,\n",
       "  'Paul_Bako': 34.69,\n",
       "  'Ramon_Hernandez': 30.78,\n",
       "  'Kevin_Millar': 35.43,\n",
       "  'Chris_Gomez': 35.71},\n",
       " 'PosCategory': {'Adam_Donachie': 'Catcher',\n",
       "  'Paul_Bako': 'Catcher',\n",
       "  'Ramon_Hernandez': 'Catcher',\n",
       "  'Kevin_Millar': 'Infielder',\n",
       "  'Chris_Gomez': 'Infielder'}}"
      ]
     },
     "execution_count": 33,
     "metadata": {},
     "output_type": "execute_result"
    }
   ],
   "source": [
    "#convert  a dataframe to a dictionary:\n",
    "df1.to_dict()"
   ]
  },
  {
   "cell_type": "code",
   "execution_count": 35,
   "id": "cfe07633",
   "metadata": {},
   "outputs": [],
   "source": [
    "#Save a dataframe as an Excel table:\n",
    "df.to_excel('Output1.xlsx')"
   ]
  },
  {
   "cell_type": "code",
   "execution_count": null,
   "id": "8d5c6b37",
   "metadata": {},
   "outputs": [],
   "source": []
  }
 ],
 "metadata": {
  "kernelspec": {
   "display_name": "Python 3 (ipykernel)",
   "language": "python",
   "name": "python3"
  },
  "language_info": {
   "codemirror_mode": {
    "name": "ipython",
    "version": 3
   },
   "file_extension": ".py",
   "mimetype": "text/x-python",
   "name": "python",
   "nbconvert_exporter": "python",
   "pygments_lexer": "ipython3",
   "version": "3.8.8"
  }
 },
 "nbformat": 4,
 "nbformat_minor": 5
}
